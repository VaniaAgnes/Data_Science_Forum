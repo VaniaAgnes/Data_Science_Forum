{
  "nbformat": 4,
  "nbformat_minor": 0,
  "metadata": {
    "colab": {
      "provenance": []
    },
    "kernelspec": {
      "name": "python3",
      "display_name": "Python 3"
    },
    "language_info": {
      "name": "python"
    }
  },
  "cells": [
    {
      "cell_type": "code",
      "execution_count": 71,
      "metadata": {
        "id": "QyjcVsVLvXW3"
      },
      "outputs": [],
      "source": [
        "from bs4 import BeautifulSoup\n",
        "import requests\n",
        "import re\n",
        "import pandas as pd\n",
        "from sklearn.cluster import KMeans\n",
        "from sklearn.preprocessing import StandardScaler\n",
        "from sklearn.preprocessing import LabelEncoder\n",
        "from sklearn.mixture import GaussianMixture\n",
        "from sklearn.cluster import DBSCAN\n",
        "from sklearn.cluster import AgglomerativeClustering\n",
        "from scipy.cluster.hierarchy import dendrogram, linkage\n",
        "from sklearn.metrics import calinski_harabasz_score\n",
        "import matplotlib.pyplot as plt\n"
      ]
    },
    {
      "cell_type": "code",
      "source": [
        "#Raw Data\n",
        "data = pd.read_csv('https://raw.githubusercontent.com/FelAmore/Data-Science/main/tsunami.csv')"
      ],
      "metadata": {
        "id": "6OFSL1SHwbf8"
      },
      "execution_count": 72,
      "outputs": []
    },
    {
      "cell_type": "code",
      "source": [
        "#Selected Data that wants to be Extracted\n",
        "selected_columns = data[['Longitude', 'Latitude', 'Magnitude']]"
      ],
      "metadata": {
        "id": "kFkWsOVCwmtH"
      },
      "execution_count": 73,
      "outputs": []
    },
    {
      "cell_type": "code",
      "source": [
        "#Scaled Data\n",
        "scaler = StandardScaler()\n",
        "scaled_data = scaler.fit_transform(selected_columns)"
      ],
      "metadata": {
        "id": "sSIfz-AUwtb8"
      },
      "execution_count": 74,
      "outputs": []
    },
    {
      "cell_type": "code",
      "source": [
        "#Initialize the K-means Clustering\n",
        "kmeans = KMeans(n_clusters=3, random_state = 42)\n",
        "data['Kmeans_Clustering']= kmeans.fit_predict(scaled_data)"
      ],
      "metadata": {
        "colab": {
          "base_uri": "https://localhost:8080/"
        },
        "id": "fVsU8LKywv3h",
        "outputId": "89274d44-e697-41b0-a964-d7b2b40a8388"
      },
      "execution_count": 75,
      "outputs": [
        {
          "output_type": "stream",
          "name": "stderr",
          "text": [
            "/usr/local/lib/python3.10/dist-packages/sklearn/cluster/_kmeans.py:870: FutureWarning: The default value of `n_init` will change from 10 to 'auto' in 1.4. Set the value of `n_init` explicitly to suppress the warning\n",
            "  warnings.warn(\n"
          ]
        }
      ]
    },
    {
      "cell_type": "code",
      "source": [
        "#Initialize the GMM Clustering\n",
        "gmm = GaussianMixture(n_components=3)\n",
        "data['GMM_Clustering']= gmm.fit_predict(scaled_data)"
      ],
      "metadata": {
        "id": "mRuUGjX22n3h"
      },
      "execution_count": 87,
      "outputs": []
    },
    {
      "cell_type": "code",
      "source": [
        "#Initialize the DBSCAN Clustering\n",
        "dbscan = DBSCAN(eps =0.5, min_samples= 3)\n",
        "data['DBSCAN_Clustering']= dbscan.fit_predict(scaled_data)"
      ],
      "metadata": {
        "id": "sUq2Ua4K3IxI"
      },
      "execution_count": 88,
      "outputs": []
    },
    {
      "cell_type": "code",
      "source": [
        "# Initialize the Hierarchial Clustering\n",
        "agg_cluster = AgglomerativeClustering(n_clusters=3)\n",
        "data['Cluster_Hierarchical'] = agg_cluster.fit_predict(scaled_data)"
      ],
      "metadata": {
        "id": "Mp62XuAg5Fp4"
      },
      "execution_count": 89,
      "outputs": []
    },
    {
      "cell_type": "code",
      "source": [
        "#Evaluate the Clustering using Calinski-Harabasz Score\n",
        "calinski_kmeans = calinski_harabasz_score(scaled_data, data['Kmeans_Clustering'])\n",
        "calinski_dbscan = calinski_harabasz_score(scaled_data, data['DBSCAN_Clustering'])\n",
        "calinski_hierarchical = calinski_harabasz_score(scaled_data, data['Cluster_Hierarchical'])\n",
        "calinski_gmm = calinski_harabasz_score(scaled_data, data['GMM_Clustering'])"
      ],
      "metadata": {
        "id": "UEpebaHj8Gmn"
      },
      "execution_count": 96,
      "outputs": []
    },
    {
      "cell_type": "code",
      "source": [
        "#Printing the Outputs\n",
        "print(f\"The Clustering Methods used is: K-means, DBSCAN, Hierarchial, GMM\")\n",
        "print(f\"The Evaluation Methods used is: Calinski-Harabasz\")\n",
        "\n",
        "print(f\" \")\n",
        "print(f\"K means     : {calinski_kmeans} \")\n",
        "print(f\"DBSCAN      : {calinski_dbscan} \")\n",
        "print(f\"Hierarchial : {calinski_hierarchical} \")\n",
        "print(f\"GMM         : {calinski_gmm} \")"
      ],
      "metadata": {
        "colab": {
          "base_uri": "https://localhost:8080/"
        },
        "id": "8fS9iFKxw31M",
        "outputId": "09171107-6ce3-4e5b-b2f9-70a959db42ec"
      },
      "execution_count": 98,
      "outputs": [
        {
          "output_type": "stream",
          "name": "stdout",
          "text": [
            "The Clustering Methods used is: K-means, DBSCAN, Hierarchial, GMM\n",
            "The Evaluation Methods used is: Calinski-Harabasz\n",
            " \n",
            "K means     : 24.69038169431235 \n",
            "DBSCAN      : 9.52082519960284 \n",
            "Hierarchial : 23.509005747983036 \n",
            "GMM         : 17.02123330660256 \n"
          ]
        }
      ]
    }
  ]
}